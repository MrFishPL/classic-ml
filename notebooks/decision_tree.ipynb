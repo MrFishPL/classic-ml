{
 "cells": [
  {
   "cell_type": "code",
   "execution_count": 1,
   "id": "7b748d9b",
   "metadata": {},
   "outputs": [],
   "source": [
    "import sys\n",
    "import os\n",
    "\n",
    "sys.path.append(os.path.abspath(os.path.join(os.getcwd(), '..')))"
   ]
  },
  {
   "cell_type": "code",
   "execution_count": 2,
   "id": "3c11fd03",
   "metadata": {},
   "outputs": [
    {
     "name": "stdout",
     "output_type": "stream",
     "text": [
      "Accuracy (NumericDecisionTreeClassifier): 1.00\n",
      "Accuracy (sklearn DecisionTreeClassifier): 1.00\n"
     ]
    }
   ],
   "source": [
    "from sklearn.model_selection import train_test_split\n",
    "from sklearn.metrics import accuracy_score\n",
    "from sklearn import datasets\n",
    "from sklearn.tree import DecisionTreeClassifier\n",
    "from ml_algorithms.classifiers import NumericDecisionTreeClassifier\n",
    "\n",
    "iris = datasets.load_iris()\n",
    "X = iris[\"data\"]\n",
    "y = iris[\"target\"]\n",
    "\n",
    "X_train, X_test, y_train, y_test = train_test_split(X, y, test_size=0.3, random_state=42)\n",
    "\n",
    "custom_tree = NumericDecisionTreeClassifier()\n",
    "custom_tree.fit(X_train, y_train)\n",
    "y_pred_custom = custom_tree.predict(X_test)\n",
    "accuracy_custom = accuracy_score(y_test, y_pred_custom)\n",
    "print(f\"Accuracy (NumericDecisionTreeClassifier): {accuracy_custom:.2f}\")\n",
    "\n",
    "sklearn_tree = DecisionTreeClassifier(random_state=42)\n",
    "sklearn_tree.fit(X_train, y_train)\n",
    "y_pred_sklearn = sklearn_tree.predict(X_test)\n",
    "accuracy_sklearn = accuracy_score(y_test, y_pred_sklearn)\n",
    "print(f\"Accuracy (sklearn DecisionTreeClassifier): {accuracy_sklearn:.2f}\")"
   ]
  }
 ],
 "metadata": {
  "kernelspec": {
   "display_name": ".venv",
   "language": "python",
   "name": "python3"
  },
  "language_info": {
   "codemirror_mode": {
    "name": "ipython",
    "version": 3
   },
   "file_extension": ".py",
   "mimetype": "text/x-python",
   "name": "python",
   "nbconvert_exporter": "python",
   "pygments_lexer": "ipython3",
   "version": "3.13.4"
  }
 },
 "nbformat": 4,
 "nbformat_minor": 5
}
